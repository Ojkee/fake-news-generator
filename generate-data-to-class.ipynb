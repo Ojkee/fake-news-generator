{
 "cells": [
  {
   "cell_type": "code",
   "execution_count": 1,
   "id": "743609d8",
   "metadata": {},
   "outputs": [],
   "source": [
    "import os\n",
    "os.environ['TF_CPP_MIN_LOG_LEVEL'] = '3'"
   ]
  },
  {
   "cell_type": "code",
   "execution_count": 2,
   "id": "c159bec2",
   "metadata": {},
   "outputs": [
    {
     "name": "stderr",
     "output_type": "stream",
     "text": [
      "WARNING: All log messages before absl::InitializeLog() is called are written to STDERR\n",
      "E0000 00:00:1737769611.748407    5205 cuda_dnn.cc:8310] Unable to register cuDNN factory: Attempting to register factory for plugin cuDNN when one has already been registered\n",
      "E0000 00:00:1737769611.768906    5205 cuda_blas.cc:1418] Unable to register cuBLAS factory: Attempting to register factory for plugin cuBLAS when one has already been registered\n"
     ]
    }
   ],
   "source": [
    "import pandas as pd\n",
    "import numpy as np\n",
    "from tensorflow.keras.models import load_model\n",
    "import time"
   ]
  },
  {
   "cell_type": "code",
   "execution_count": 3,
   "id": "2fc42bff",
   "metadata": {},
   "outputs": [],
   "source": [
    "loaded_encoder = np.load('encoder.npz')\n",
    "one_hot_encoder = {key: loaded_encoder[key] for key in loaded_encoder}"
   ]
  },
  {
   "cell_type": "markdown",
   "id": "e794d14c",
   "metadata": {},
   "source": [
    "# Human written texts"
   ]
  },
  {
   "cell_type": "code",
   "execution_count": 4,
   "id": "d4e1cc24",
   "metadata": {},
   "outputs": [],
   "source": [
    "NUM_PER_CLASS: int = 3000"
   ]
  },
  {
   "cell_type": "code",
   "execution_count": 5,
   "id": "879dd1c4",
   "metadata": {},
   "outputs": [],
   "source": [
    "df_train = pd.read_csv(\"dataset/train.csv\", sep = \";\")\n",
    "df_test = pd.read_csv(\"dataset/test.csv\", sep = \";\")\n",
    "df_eval = pd.read_csv(\"dataset/evaluation.csv\", sep = \";\")\n",
    "texts1 = pd.concat([df_train, df_eval, df_test]).dropna()[\"text\"].sample(NUM_PER_CLASS, ignore_index=True, random_state=42)"
   ]
  },
  {
   "cell_type": "code",
   "execution_count": 6,
   "id": "e30c2d89",
   "metadata": {},
   "outputs": [],
   "source": [
    "df_true = pd.read_csv(\"dataset/True.csv\")\n",
    "df_fake = pd.read_csv(\"dataset/Fake.csv\")\n",
    "texts2 = pd.concat([df_true, df_fake]).dropna()[\"text\"].sample(NUM_PER_CLASS, ignore_index=True, random_state=42)"
   ]
  },
  {
   "cell_type": "code",
   "execution_count": 7,
   "id": "def6e17a",
   "metadata": {},
   "outputs": [],
   "source": [
    "human_texts = pd.concat([texts1, texts2]).to_frame(name=\"text\")\n",
    "human_texts[\"label\"] = np.float32(0.0)"
   ]
  },
  {
   "cell_type": "code",
   "execution_count": 8,
   "id": "71ce6b1b",
   "metadata": {},
   "outputs": [],
   "source": [
    "human_texts.reset_index(drop=True, inplace=True)"
   ]
  },
  {
   "cell_type": "code",
   "execution_count": 9,
   "id": "0d7d18d6",
   "metadata": {},
   "outputs": [
    {
     "data": {
      "text/html": [
       "<div>\n",
       "<style scoped>\n",
       "    .dataframe tbody tr th:only-of-type {\n",
       "        vertical-align: middle;\n",
       "    }\n",
       "\n",
       "    .dataframe tbody tr th {\n",
       "        vertical-align: top;\n",
       "    }\n",
       "\n",
       "    .dataframe thead th {\n",
       "        text-align: right;\n",
       "    }\n",
       "</style>\n",
       "<table border=\"1\" class=\"dataframe\">\n",
       "  <thead>\n",
       "    <tr style=\"text-align: right;\">\n",
       "      <th></th>\n",
       "      <th>text</th>\n",
       "      <th>label</th>\n",
       "    </tr>\n",
       "  </thead>\n",
       "  <tbody>\n",
       "    <tr>\n",
       "      <th>0</th>\n",
       "      <td>NEW YORK (Reuters) - Donald Trump’s support ha...</td>\n",
       "      <td>0.0</td>\n",
       "    </tr>\n",
       "    <tr>\n",
       "      <th>1</th>\n",
       "      <td>JERUSALEM (Reuters) - The Israeli military sai...</td>\n",
       "      <td>0.0</td>\n",
       "    </tr>\n",
       "    <tr>\n",
       "      <th>2</th>\n",
       "      <td>Tune in to the Alternate Current Radio Network...</td>\n",
       "      <td>0.0</td>\n",
       "    </tr>\n",
       "    <tr>\n",
       "      <th>3</th>\n",
       "      <td>We know that the BP Deepwater Horizon oil spil...</td>\n",
       "      <td>0.0</td>\n",
       "    </tr>\n",
       "    <tr>\n",
       "      <th>4</th>\n",
       "      <td>The trend of young Muslim men targeting and at...</td>\n",
       "      <td>0.0</td>\n",
       "    </tr>\n",
       "    <tr>\n",
       "      <th>...</th>\n",
       "      <td>...</td>\n",
       "      <td>...</td>\n",
       "    </tr>\n",
       "    <tr>\n",
       "      <th>5995</th>\n",
       "      <td>HABUR BORDER CROSSING, Turkey (Reuters) - Turk...</td>\n",
       "      <td>0.0</td>\n",
       "    </tr>\n",
       "    <tr>\n",
       "      <th>5996</th>\n",
       "      <td>WASHINGTON (Reuters) - Republican Donald Trump...</td>\n",
       "      <td>0.0</td>\n",
       "    </tr>\n",
       "    <tr>\n",
       "      <th>5997</th>\n",
       "      <td>21st Century Wire says Earlier this week, the ...</td>\n",
       "      <td>0.0</td>\n",
       "    </tr>\n",
       "    <tr>\n",
       "      <th>5998</th>\n",
       "      <td>The Walt Disney Company   the same group that ...</td>\n",
       "      <td>0.0</td>\n",
       "    </tr>\n",
       "    <tr>\n",
       "      <th>5999</th>\n",
       "      <td>MANCHESTER, England (Reuters) - British Prime ...</td>\n",
       "      <td>0.0</td>\n",
       "    </tr>\n",
       "  </tbody>\n",
       "</table>\n",
       "<p>6000 rows × 2 columns</p>\n",
       "</div>"
      ],
      "text/plain": [
       "                                                   text  label\n",
       "0     NEW YORK (Reuters) - Donald Trump’s support ha...    0.0\n",
       "1     JERUSALEM (Reuters) - The Israeli military sai...    0.0\n",
       "2     Tune in to the Alternate Current Radio Network...    0.0\n",
       "3     We know that the BP Deepwater Horizon oil spil...    0.0\n",
       "4     The trend of young Muslim men targeting and at...    0.0\n",
       "...                                                 ...    ...\n",
       "5995  HABUR BORDER CROSSING, Turkey (Reuters) - Turk...    0.0\n",
       "5996  WASHINGTON (Reuters) - Republican Donald Trump...    0.0\n",
       "5997  21st Century Wire says Earlier this week, the ...    0.0\n",
       "5998  The Walt Disney Company   the same group that ...    0.0\n",
       "5999  MANCHESTER, England (Reuters) - British Prime ...    0.0\n",
       "\n",
       "[6000 rows x 2 columns]"
      ]
     },
     "execution_count": 9,
     "metadata": {},
     "output_type": "execute_result"
    }
   ],
   "source": [
    "human_texts"
   ]
  },
  {
   "cell_type": "code",
   "execution_count": 10,
   "id": "0b199c60",
   "metadata": {},
   "outputs": [],
   "source": [
    "filter_vocab = set(sorted([\n",
    "    ' ', '!', '\"', '#', '$',\n",
    "    '%','&', \"'\", '(', ')',\n",
    "    '*', '+', ',', '-','.',\n",
    "    '/', '0', '1', '2', '3',\n",
    "    '4', '5', '6', '7', '8',\n",
    "    '9', ':', ';', '=', '?',\n",
    "    '@', 'A', 'B', 'C', 'D',\n",
    "    'E', 'F', 'G', 'H', 'I',\n",
    "    'J', 'K', 'L', 'M', 'N',\n",
    "    'O', 'P', 'Q', 'R', 'S',\n",
    "    'T', 'U', 'V', 'W', 'X',\n",
    "    'Y', 'Z', '[', ']', '_',\n",
    "    'a', 'b', 'c', 'd', 'e',\n",
    "    'f', 'g', 'h', 'i', 'j',\n",
    "    'k', 'l', 'm', 'n', 'o',\n",
    "    'p', 'q', 'r', 's', 't',\n",
    "    'u', 'v', 'w', 'x', 'y',\n",
    "    'z', '{', '}', '“', '”',\n",
    "    \"<pad>\"\n",
    "]))"
   ]
  },
  {
   "cell_type": "code",
   "execution_count": 11,
   "id": "831e2439",
   "metadata": {},
   "outputs": [],
   "source": [
    "def filter_chars(text: str) -> str:\n",
    "    global filter_vocab\n",
    "    return \"\".join([c if c in filter_vocab else \"\" for c in text])"
   ]
  },
  {
   "cell_type": "code",
   "execution_count": 12,
   "id": "bb8aa2a5",
   "metadata": {},
   "outputs": [],
   "source": [
    "MAX_TEXT_LEN: int = 150"
   ]
  },
  {
   "cell_type": "code",
   "execution_count": 13,
   "id": "cf751069",
   "metadata": {},
   "outputs": [],
   "source": [
    "def shrink_text(text: str) -> str:\n",
    "    wrds = text.split(\" \")\n",
    "    retVal = \"\"\n",
    "    for wrd in wrds:\n",
    "        if len(retVal + \" \" + wrd) > MAX_TEXT_LEN - 1:\n",
    "            return retVal.strip() + \".\" \n",
    "        else:\n",
    "            retVal += \" \" + wrd"
   ]
  },
  {
   "cell_type": "code",
   "execution_count": 14,
   "id": "e215f088",
   "metadata": {},
   "outputs": [],
   "source": [
    "human_texts[\"text\"] = human_texts[\"text\"].apply(lambda x: filter_chars(x)).apply(lambda x: shrink_text(x))"
   ]
  },
  {
   "cell_type": "markdown",
   "id": "b6aa59a3",
   "metadata": {},
   "source": [
    "# AI generated texts"
   ]
  },
  {
   "cell_type": "markdown",
   "id": "e07f413e",
   "metadata": {},
   "source": [
    "## Prepare first words"
   ]
  },
  {
   "cell_type": "code",
   "execution_count": 15,
   "id": "3006aac7",
   "metadata": {},
   "outputs": [],
   "source": [
    "def encode(src: str) -> np.ndarray:\n",
    "    dst = []\n",
    "    for letter in [*src]:\n",
    "        dst.append(one_hot_encoder[letter])\n",
    "    return np.array(dst)"
   ]
  },
  {
   "cell_type": "code",
   "execution_count": 16,
   "id": "85f0c37d",
   "metadata": {},
   "outputs": [],
   "source": [
    "def decode(src: np.ndarray) -> str:\n",
    "    dst = \"\"\n",
    "    for coded in src:\n",
    "        for key, val in one_hot_encoder.items():\n",
    "            if (coded == val).all():\n",
    "                dst += key\n",
    "                break\n",
    "    return dst"
   ]
  },
  {
   "cell_type": "code",
   "execution_count": 17,
   "id": "c9002f35",
   "metadata": {},
   "outputs": [],
   "source": [
    "def encode_generate_sequence(model, start_sequence):\n",
    "    encoded = encode(start_sequence)\n",
    "    current_input = np.copy(encoded)\n",
    "    generated_sequence = start_sequence\n",
    "    for _ in range(MAX_TEXT_LEN):\n",
    "        predictions = model.predict(current_input[np.newaxis, ...], verbose=0) \n",
    "        next_char_idx = np.argmax(predictions[0, -1, :])\n",
    "        next_char_onehot = np.zeros_like(current_input[0])\n",
    "        next_char_onehot[next_char_idx] = 1\n",
    "        current_input = np.roll(current_input, shift=-1, axis=0)\n",
    "        current_input[-1] = next_char_onehot  \n",
    "        generated_sequence += decode(next_char_onehot[np.newaxis, ...])\n",
    "    return generated_sequence"
   ]
  },
  {
   "cell_type": "code",
   "execution_count": 18,
   "id": "bd405334",
   "metadata": {},
   "outputs": [],
   "source": [
    "def get_first_word(text: str) -> str:\n",
    "    return text.split()[0] + \" \""
   ]
  },
  {
   "cell_type": "code",
   "execution_count": 19,
   "id": "7429181d",
   "metadata": {},
   "outputs": [],
   "source": [
    "texts1_list = pd.concat([df_train, df_eval, df_test]).dropna()[\"text\"]\n",
    "texts1_list = texts1_list.loc[texts1_list.str.strip() != \"\"].sample(NUM_PER_CLASS, random_state=42).tolist()"
   ]
  },
  {
   "cell_type": "code",
   "execution_count": 20,
   "id": "984d4f19",
   "metadata": {},
   "outputs": [],
   "source": [
    "texts2_list = pd.concat([df_true, df_fake]).dropna()[\"text\"]\n",
    "texts2_list = texts2_list.loc[texts2_list.str.strip() != \"\"].sample(NUM_PER_CLASS, random_state=42).tolist()"
   ]
  },
  {
   "cell_type": "code",
   "execution_count": 21,
   "id": "ec612c24",
   "metadata": {},
   "outputs": [
    {
     "data": {
      "text/plain": [
       "(6000,)"
      ]
     },
     "execution_count": 21,
     "metadata": {},
     "output_type": "execute_result"
    }
   ],
   "source": [
    "texts_list = np.concatenate([texts1_list, texts2_list])\n",
    "texts_list.shape"
   ]
  },
  {
   "cell_type": "code",
   "execution_count": 22,
   "id": "9aeb386f",
   "metadata": {},
   "outputs": [],
   "source": [
    "texts_list = np.vectorize(filter_chars)(texts_list)"
   ]
  },
  {
   "cell_type": "code",
   "execution_count": 23,
   "id": "87e28a37",
   "metadata": {},
   "outputs": [],
   "source": [
    "first_words = np.vectorize(get_first_word)(texts_list)"
   ]
  },
  {
   "cell_type": "code",
   "execution_count": 24,
   "id": "a9b56745",
   "metadata": {},
   "outputs": [],
   "source": [
    "np.random.shuffle(first_words)"
   ]
  },
  {
   "cell_type": "markdown",
   "id": "196d75a8",
   "metadata": {},
   "source": [
    "## First generator"
   ]
  },
  {
   "cell_type": "code",
   "execution_count": 25,
   "id": "31225e4e",
   "metadata": {},
   "outputs": [
    {
     "name": "stderr",
     "output_type": "stream",
     "text": [
      "W0000 00:00:1737769617.250864    5205 gpu_device.cc:2344] Cannot dlopen some GPU libraries. Please make sure the missing libraries mentioned above are installed properly if you would like to use GPU. Follow the guide at https://www.tensorflow.org/install/gpu for how to download and setup the required libraries for your platform.\n",
      "Skipping registering GPU devices...\n"
     ]
    }
   ],
   "source": [
    "model_first = load_model(\"generator_dropout_complex.keras\")"
   ]
  },
  {
   "cell_type": "code",
   "execution_count": 26,
   "id": "7a040cc7",
   "metadata": {},
   "outputs": [
    {
     "data": {
      "text/html": [
       "<pre style=\"white-space:pre;overflow-x:auto;line-height:normal;font-family:Menlo,'DejaVu Sans Mono',consolas,'Courier New',monospace\"><span style=\"font-weight: bold\">Model: \"sequential\"</span>\n",
       "</pre>\n"
      ],
      "text/plain": [
       "\u001b[1mModel: \"sequential\"\u001b[0m\n"
      ]
     },
     "metadata": {},
     "output_type": "display_data"
    },
    {
     "data": {
      "text/html": [
       "<pre style=\"white-space:pre;overflow-x:auto;line-height:normal;font-family:Menlo,'DejaVu Sans Mono',consolas,'Courier New',monospace\">┏━━━━━━━━━━━━━━━━━━━━━━━━━━━━━━━━━┳━━━━━━━━━━━━━━━━━━━━━━━━┳━━━━━━━━━━━━━━━┓\n",
       "┃<span style=\"font-weight: bold\"> Layer (type)                    </span>┃<span style=\"font-weight: bold\"> Output Shape           </span>┃<span style=\"font-weight: bold\">       Param # </span>┃\n",
       "┡━━━━━━━━━━━━━━━━━━━━━━━━━━━━━━━━━╇━━━━━━━━━━━━━━━━━━━━━━━━╇━━━━━━━━━━━━━━━┩\n",
       "│ lstm (<span style=\"color: #0087ff; text-decoration-color: #0087ff\">LSTM</span>)                     │ (<span style=\"color: #00d7ff; text-decoration-color: #00d7ff\">None</span>, <span style=\"color: #00af00; text-decoration-color: #00af00\">124</span>, <span style=\"color: #00af00; text-decoration-color: #00af00\">256</span>)       │       <span style=\"color: #00af00; text-decoration-color: #00af00\">356,352</span> │\n",
       "├─────────────────────────────────┼────────────────────────┼───────────────┤\n",
       "│ dense (<span style=\"color: #0087ff; text-decoration-color: #0087ff\">Dense</span>)                   │ (<span style=\"color: #00d7ff; text-decoration-color: #00d7ff\">None</span>, <span style=\"color: #00af00; text-decoration-color: #00af00\">124</span>, <span style=\"color: #00af00; text-decoration-color: #00af00\">128</span>)       │        <span style=\"color: #00af00; text-decoration-color: #00af00\">32,896</span> │\n",
       "├─────────────────────────────────┼────────────────────────┼───────────────┤\n",
       "│ batch_normalization             │ (<span style=\"color: #00d7ff; text-decoration-color: #00d7ff\">None</span>, <span style=\"color: #00af00; text-decoration-color: #00af00\">124</span>, <span style=\"color: #00af00; text-decoration-color: #00af00\">128</span>)       │           <span style=\"color: #00af00; text-decoration-color: #00af00\">512</span> │\n",
       "│ (<span style=\"color: #0087ff; text-decoration-color: #0087ff\">BatchNormalization</span>)            │                        │               │\n",
       "├─────────────────────────────────┼────────────────────────┼───────────────┤\n",
       "│ dense_1 (<span style=\"color: #0087ff; text-decoration-color: #0087ff\">Dense</span>)                 │ (<span style=\"color: #00d7ff; text-decoration-color: #00d7ff\">None</span>, <span style=\"color: #00af00; text-decoration-color: #00af00\">124</span>, <span style=\"color: #00af00; text-decoration-color: #00af00\">91</span>)        │        <span style=\"color: #00af00; text-decoration-color: #00af00\">11,739</span> │\n",
       "└─────────────────────────────────┴────────────────────────┴───────────────┘\n",
       "</pre>\n"
      ],
      "text/plain": [
       "┏━━━━━━━━━━━━━━━━━━━━━━━━━━━━━━━━━┳━━━━━━━━━━━━━━━━━━━━━━━━┳━━━━━━━━━━━━━━━┓\n",
       "┃\u001b[1m \u001b[0m\u001b[1mLayer (type)                   \u001b[0m\u001b[1m \u001b[0m┃\u001b[1m \u001b[0m\u001b[1mOutput Shape          \u001b[0m\u001b[1m \u001b[0m┃\u001b[1m \u001b[0m\u001b[1m      Param #\u001b[0m\u001b[1m \u001b[0m┃\n",
       "┡━━━━━━━━━━━━━━━━━━━━━━━━━━━━━━━━━╇━━━━━━━━━━━━━━━━━━━━━━━━╇━━━━━━━━━━━━━━━┩\n",
       "│ lstm (\u001b[38;5;33mLSTM\u001b[0m)                     │ (\u001b[38;5;45mNone\u001b[0m, \u001b[38;5;34m124\u001b[0m, \u001b[38;5;34m256\u001b[0m)       │       \u001b[38;5;34m356,352\u001b[0m │\n",
       "├─────────────────────────────────┼────────────────────────┼───────────────┤\n",
       "│ dense (\u001b[38;5;33mDense\u001b[0m)                   │ (\u001b[38;5;45mNone\u001b[0m, \u001b[38;5;34m124\u001b[0m, \u001b[38;5;34m128\u001b[0m)       │        \u001b[38;5;34m32,896\u001b[0m │\n",
       "├─────────────────────────────────┼────────────────────────┼───────────────┤\n",
       "│ batch_normalization             │ (\u001b[38;5;45mNone\u001b[0m, \u001b[38;5;34m124\u001b[0m, \u001b[38;5;34m128\u001b[0m)       │           \u001b[38;5;34m512\u001b[0m │\n",
       "│ (\u001b[38;5;33mBatchNormalization\u001b[0m)            │                        │               │\n",
       "├─────────────────────────────────┼────────────────────────┼───────────────┤\n",
       "│ dense_1 (\u001b[38;5;33mDense\u001b[0m)                 │ (\u001b[38;5;45mNone\u001b[0m, \u001b[38;5;34m124\u001b[0m, \u001b[38;5;34m91\u001b[0m)        │        \u001b[38;5;34m11,739\u001b[0m │\n",
       "└─────────────────────────────────┴────────────────────────┴───────────────┘\n"
      ]
     },
     "metadata": {},
     "output_type": "display_data"
    },
    {
     "data": {
      "text/html": [
       "<pre style=\"white-space:pre;overflow-x:auto;line-height:normal;font-family:Menlo,'DejaVu Sans Mono',consolas,'Courier New',monospace\"><span style=\"font-weight: bold\"> Total params: </span><span style=\"color: #00af00; text-decoration-color: #00af00\">1,203,987</span> (4.59 MB)\n",
       "</pre>\n"
      ],
      "text/plain": [
       "\u001b[1m Total params: \u001b[0m\u001b[38;5;34m1,203,987\u001b[0m (4.59 MB)\n"
      ]
     },
     "metadata": {},
     "output_type": "display_data"
    },
    {
     "data": {
      "text/html": [
       "<pre style=\"white-space:pre;overflow-x:auto;line-height:normal;font-family:Menlo,'DejaVu Sans Mono',consolas,'Courier New',monospace\"><span style=\"font-weight: bold\"> Trainable params: </span><span style=\"color: #00af00; text-decoration-color: #00af00\">401,243</span> (1.53 MB)\n",
       "</pre>\n"
      ],
      "text/plain": [
       "\u001b[1m Trainable params: \u001b[0m\u001b[38;5;34m401,243\u001b[0m (1.53 MB)\n"
      ]
     },
     "metadata": {},
     "output_type": "display_data"
    },
    {
     "data": {
      "text/html": [
       "<pre style=\"white-space:pre;overflow-x:auto;line-height:normal;font-family:Menlo,'DejaVu Sans Mono',consolas,'Courier New',monospace\"><span style=\"font-weight: bold\"> Non-trainable params: </span><span style=\"color: #00af00; text-decoration-color: #00af00\">256</span> (1.00 KB)\n",
       "</pre>\n"
      ],
      "text/plain": [
       "\u001b[1m Non-trainable params: \u001b[0m\u001b[38;5;34m256\u001b[0m (1.00 KB)\n"
      ]
     },
     "metadata": {},
     "output_type": "display_data"
    },
    {
     "data": {
      "text/html": [
       "<pre style=\"white-space:pre;overflow-x:auto;line-height:normal;font-family:Menlo,'DejaVu Sans Mono',consolas,'Courier New',monospace\"><span style=\"font-weight: bold\"> Optimizer params: </span><span style=\"color: #00af00; text-decoration-color: #00af00\">802,488</span> (3.06 MB)\n",
       "</pre>\n"
      ],
      "text/plain": [
       "\u001b[1m Optimizer params: \u001b[0m\u001b[38;5;34m802,488\u001b[0m (3.06 MB)\n"
      ]
     },
     "metadata": {},
     "output_type": "display_data"
    }
   ],
   "source": [
    "model_first.summary()"
   ]
  },
  {
   "cell_type": "code",
   "execution_count": 27,
   "id": "4524a44e",
   "metadata": {},
   "outputs": [],
   "source": [
    "s1 = time.time()\n",
    "generated_first = np.vectorize(lambda x: encode_generate_sequence(model_first, x))(first_words[:NUM_PER_CLASS])\n",
    "e1 = time.time()"
   ]
  },
  {
   "cell_type": "code",
   "execution_count": 28,
   "id": "239b9c60",
   "metadata": {},
   "outputs": [
    {
     "name": "stdout",
     "output_type": "stream",
     "text": [
      "Took: 17104.259920597076 secods\n"
     ]
    }
   ],
   "source": [
    "print(f\"Took: {e1 - s1} secods\")"
   ]
  },
  {
   "cell_type": "code",
   "execution_count": 29,
   "id": "455ed978",
   "metadata": {},
   "outputs": [],
   "source": [
    "np.save(\"dataset/generated_first.npy\", generated_first)"
   ]
  },
  {
   "cell_type": "code",
   "execution_count": null,
   "id": "fa986153",
   "metadata": {},
   "outputs": [],
   "source": []
  },
  {
   "cell_type": "markdown",
   "id": "1bbdfdaf",
   "metadata": {},
   "source": [
    "## Second generator"
   ]
  },
  {
   "cell_type": "code",
   "execution_count": 30,
   "id": "4f59651c",
   "metadata": {},
   "outputs": [
    {
     "data": {
      "text/html": [
       "<pre style=\"white-space:pre;overflow-x:auto;line-height:normal;font-family:Menlo,'DejaVu Sans Mono',consolas,'Courier New',monospace\"><span style=\"font-weight: bold\">Model: \"sequential\"</span>\n",
       "</pre>\n"
      ],
      "text/plain": [
       "\u001b[1mModel: \"sequential\"\u001b[0m\n"
      ]
     },
     "metadata": {},
     "output_type": "display_data"
    },
    {
     "data": {
      "text/html": [
       "<pre style=\"white-space:pre;overflow-x:auto;line-height:normal;font-family:Menlo,'DejaVu Sans Mono',consolas,'Courier New',monospace\">┏━━━━━━━━━━━━━━━━━━━━━━━━━━━━━━━━━┳━━━━━━━━━━━━━━━━━━━━━━━━┳━━━━━━━━━━━━━━━┓\n",
       "┃<span style=\"font-weight: bold\"> Layer (type)                    </span>┃<span style=\"font-weight: bold\"> Output Shape           </span>┃<span style=\"font-weight: bold\">       Param # </span>┃\n",
       "┡━━━━━━━━━━━━━━━━━━━━━━━━━━━━━━━━━╇━━━━━━━━━━━━━━━━━━━━━━━━╇━━━━━━━━━━━━━━━┩\n",
       "│ lstm (<span style=\"color: #0087ff; text-decoration-color: #0087ff\">LSTM</span>)                     │ (<span style=\"color: #00d7ff; text-decoration-color: #00d7ff\">None</span>, <span style=\"color: #00af00; text-decoration-color: #00af00\">149</span>, <span style=\"color: #00af00; text-decoration-color: #00af00\">256</span>)       │       <span style=\"color: #00af00; text-decoration-color: #00af00\">356,352</span> │\n",
       "├─────────────────────────────────┼────────────────────────┼───────────────┤\n",
       "│ dense (<span style=\"color: #0087ff; text-decoration-color: #0087ff\">Dense</span>)                   │ (<span style=\"color: #00d7ff; text-decoration-color: #00d7ff\">None</span>, <span style=\"color: #00af00; text-decoration-color: #00af00\">149</span>, <span style=\"color: #00af00; text-decoration-color: #00af00\">128</span>)       │        <span style=\"color: #00af00; text-decoration-color: #00af00\">32,896</span> │\n",
       "├─────────────────────────────────┼────────────────────────┼───────────────┤\n",
       "│ batch_normalization             │ (<span style=\"color: #00d7ff; text-decoration-color: #00d7ff\">None</span>, <span style=\"color: #00af00; text-decoration-color: #00af00\">149</span>, <span style=\"color: #00af00; text-decoration-color: #00af00\">128</span>)       │           <span style=\"color: #00af00; text-decoration-color: #00af00\">512</span> │\n",
       "│ (<span style=\"color: #0087ff; text-decoration-color: #0087ff\">BatchNormalization</span>)            │                        │               │\n",
       "├─────────────────────────────────┼────────────────────────┼───────────────┤\n",
       "│ dense_1 (<span style=\"color: #0087ff; text-decoration-color: #0087ff\">Dense</span>)                 │ (<span style=\"color: #00d7ff; text-decoration-color: #00d7ff\">None</span>, <span style=\"color: #00af00; text-decoration-color: #00af00\">149</span>, <span style=\"color: #00af00; text-decoration-color: #00af00\">91</span>)        │        <span style=\"color: #00af00; text-decoration-color: #00af00\">11,739</span> │\n",
       "└─────────────────────────────────┴────────────────────────┴───────────────┘\n",
       "</pre>\n"
      ],
      "text/plain": [
       "┏━━━━━━━━━━━━━━━━━━━━━━━━━━━━━━━━━┳━━━━━━━━━━━━━━━━━━━━━━━━┳━━━━━━━━━━━━━━━┓\n",
       "┃\u001b[1m \u001b[0m\u001b[1mLayer (type)                   \u001b[0m\u001b[1m \u001b[0m┃\u001b[1m \u001b[0m\u001b[1mOutput Shape          \u001b[0m\u001b[1m \u001b[0m┃\u001b[1m \u001b[0m\u001b[1m      Param #\u001b[0m\u001b[1m \u001b[0m┃\n",
       "┡━━━━━━━━━━━━━━━━━━━━━━━━━━━━━━━━━╇━━━━━━━━━━━━━━━━━━━━━━━━╇━━━━━━━━━━━━━━━┩\n",
       "│ lstm (\u001b[38;5;33mLSTM\u001b[0m)                     │ (\u001b[38;5;45mNone\u001b[0m, \u001b[38;5;34m149\u001b[0m, \u001b[38;5;34m256\u001b[0m)       │       \u001b[38;5;34m356,352\u001b[0m │\n",
       "├─────────────────────────────────┼────────────────────────┼───────────────┤\n",
       "│ dense (\u001b[38;5;33mDense\u001b[0m)                   │ (\u001b[38;5;45mNone\u001b[0m, \u001b[38;5;34m149\u001b[0m, \u001b[38;5;34m128\u001b[0m)       │        \u001b[38;5;34m32,896\u001b[0m │\n",
       "├─────────────────────────────────┼────────────────────────┼───────────────┤\n",
       "│ batch_normalization             │ (\u001b[38;5;45mNone\u001b[0m, \u001b[38;5;34m149\u001b[0m, \u001b[38;5;34m128\u001b[0m)       │           \u001b[38;5;34m512\u001b[0m │\n",
       "│ (\u001b[38;5;33mBatchNormalization\u001b[0m)            │                        │               │\n",
       "├─────────────────────────────────┼────────────────────────┼───────────────┤\n",
       "│ dense_1 (\u001b[38;5;33mDense\u001b[0m)                 │ (\u001b[38;5;45mNone\u001b[0m, \u001b[38;5;34m149\u001b[0m, \u001b[38;5;34m91\u001b[0m)        │        \u001b[38;5;34m11,739\u001b[0m │\n",
       "└─────────────────────────────────┴────────────────────────┴───────────────┘\n"
      ]
     },
     "metadata": {},
     "output_type": "display_data"
    },
    {
     "data": {
      "text/html": [
       "<pre style=\"white-space:pre;overflow-x:auto;line-height:normal;font-family:Menlo,'DejaVu Sans Mono',consolas,'Courier New',monospace\"><span style=\"font-weight: bold\"> Total params: </span><span style=\"color: #00af00; text-decoration-color: #00af00\">1,203,987</span> (4.59 MB)\n",
       "</pre>\n"
      ],
      "text/plain": [
       "\u001b[1m Total params: \u001b[0m\u001b[38;5;34m1,203,987\u001b[0m (4.59 MB)\n"
      ]
     },
     "metadata": {},
     "output_type": "display_data"
    },
    {
     "data": {
      "text/html": [
       "<pre style=\"white-space:pre;overflow-x:auto;line-height:normal;font-family:Menlo,'DejaVu Sans Mono',consolas,'Courier New',monospace\"><span style=\"font-weight: bold\"> Trainable params: </span><span style=\"color: #00af00; text-decoration-color: #00af00\">401,243</span> (1.53 MB)\n",
       "</pre>\n"
      ],
      "text/plain": [
       "\u001b[1m Trainable params: \u001b[0m\u001b[38;5;34m401,243\u001b[0m (1.53 MB)\n"
      ]
     },
     "metadata": {},
     "output_type": "display_data"
    },
    {
     "data": {
      "text/html": [
       "<pre style=\"white-space:pre;overflow-x:auto;line-height:normal;font-family:Menlo,'DejaVu Sans Mono',consolas,'Courier New',monospace\"><span style=\"font-weight: bold\"> Non-trainable params: </span><span style=\"color: #00af00; text-decoration-color: #00af00\">256</span> (1.00 KB)\n",
       "</pre>\n"
      ],
      "text/plain": [
       "\u001b[1m Non-trainable params: \u001b[0m\u001b[38;5;34m256\u001b[0m (1.00 KB)\n"
      ]
     },
     "metadata": {},
     "output_type": "display_data"
    },
    {
     "data": {
      "text/html": [
       "<pre style=\"white-space:pre;overflow-x:auto;line-height:normal;font-family:Menlo,'DejaVu Sans Mono',consolas,'Courier New',monospace\"><span style=\"font-weight: bold\"> Optimizer params: </span><span style=\"color: #00af00; text-decoration-color: #00af00\">802,488</span> (3.06 MB)\n",
       "</pre>\n"
      ],
      "text/plain": [
       "\u001b[1m Optimizer params: \u001b[0m\u001b[38;5;34m802,488\u001b[0m (3.06 MB)\n"
      ]
     },
     "metadata": {},
     "output_type": "display_data"
    }
   ],
   "source": [
    "model_second = load_model(\"generator_dropout_complex_shrink_seq_other.keras\")\n",
    "model_second.summary()"
   ]
  },
  {
   "cell_type": "code",
   "execution_count": 31,
   "id": "52dec432",
   "metadata": {},
   "outputs": [],
   "source": [
    "s2 = time.time()\n",
    "generated_second = np.vectorize(lambda x: encode_generate_sequence(model_second, x))(first_words[NUM_PER_CLASS:])\n",
    "e2 = time.time()"
   ]
  },
  {
   "cell_type": "code",
   "execution_count": 32,
   "id": "efb1218f",
   "metadata": {},
   "outputs": [
    {
     "name": "stdout",
     "output_type": "stream",
     "text": [
      "Took: 17461.15230846405 secods\n"
     ]
    }
   ],
   "source": [
    "print(f\"Took: {e2 - s2} secods\")"
   ]
  },
  {
   "cell_type": "code",
   "execution_count": 33,
   "id": "bb8f4ede",
   "metadata": {},
   "outputs": [],
   "source": [
    "np.save(\"dataset/generated_second.npy\", generated_second)"
   ]
  },
  {
   "cell_type": "markdown",
   "id": "2ab67566",
   "metadata": {},
   "source": [
    "## Final dataset processing "
   ]
  },
  {
   "cell_type": "code",
   "execution_count": 36,
   "id": "454e5a89",
   "metadata": {},
   "outputs": [],
   "source": [
    "df_gen = pd.DataFrame(np.concatenate([generated_first, generated_second]), columns=[\"text\"])"
   ]
  },
  {
   "cell_type": "code",
   "execution_count": 39,
   "id": "a4ad5e79",
   "metadata": {},
   "outputs": [],
   "source": [
    "df_gen[\"label\"] = np.float32(1.0)"
   ]
  },
  {
   "cell_type": "code",
   "execution_count": 40,
   "id": "947ee80c",
   "metadata": {},
   "outputs": [
    {
     "data": {
      "text/html": [
       "<div>\n",
       "<style scoped>\n",
       "    .dataframe tbody tr th:only-of-type {\n",
       "        vertical-align: middle;\n",
       "    }\n",
       "\n",
       "    .dataframe tbody tr th {\n",
       "        vertical-align: top;\n",
       "    }\n",
       "\n",
       "    .dataframe thead th {\n",
       "        text-align: right;\n",
       "    }\n",
       "</style>\n",
       "<table border=\"1\" class=\"dataframe\">\n",
       "  <thead>\n",
       "    <tr style=\"text-align: right;\">\n",
       "      <th></th>\n",
       "      <th>text</th>\n",
       "      <th>label</th>\n",
       "    </tr>\n",
       "  </thead>\n",
       "  <tbody>\n",
       "    <tr>\n",
       "      <th>0</th>\n",
       "      <td>CARACAS STARE SHOULD TRUMP SUPPORTER SHOCKING ...</td>\n",
       "      <td>1.0</td>\n",
       "    </tr>\n",
       "    <tr>\n",
       "      <th>1</th>\n",
       "      <td>The U.S. Senato testitil anti-to realinto test...</td>\n",
       "      <td>1.0</td>\n",
       "    </tr>\n",
       "    <tr>\n",
       "      <th>2</th>\n",
       "      <td>Just Senate three state of the U.S. state of t...</td>\n",
       "      <td>1.0</td>\n",
       "    </tr>\n",
       "    <tr>\n",
       "      <th>3</th>\n",
       "      <td>We ex-prose the mary top the mary top the mary...</td>\n",
       "      <td>1.0</td>\n",
       "    </tr>\n",
       "    <tr>\n",
       "      <th>4</th>\n",
       "      <td>WARSAW AND CHARLESS THE SEAN Senate candidate ...</td>\n",
       "      <td>1.0</td>\n",
       "    </tr>\n",
       "  </tbody>\n",
       "</table>\n",
       "</div>"
      ],
      "text/plain": [
       "                                                text  label\n",
       "0  CARACAS STARE SHOULD TRUMP SUPPORTER SHOCKING ...    1.0\n",
       "1  The U.S. Senato testitil anti-to realinto test...    1.0\n",
       "2  Just Senate three state of the U.S. state of t...    1.0\n",
       "3  We ex-prose the mary top the mary top the mary...    1.0\n",
       "4  WARSAW AND CHARLESS THE SEAN Senate candidate ...    1.0"
      ]
     },
     "execution_count": 40,
     "metadata": {},
     "output_type": "execute_result"
    }
   ],
   "source": [
    "df_gen.head()"
   ]
  },
  {
   "cell_type": "code",
   "execution_count": 41,
   "id": "38e03dbf",
   "metadata": {},
   "outputs": [],
   "source": [
    "df_dataset = pd.concat([human_texts, df_gen])"
   ]
  },
  {
   "cell_type": "code",
   "execution_count": 48,
   "id": "deb2b21d",
   "metadata": {},
   "outputs": [],
   "source": [
    "df_dataset.drop(columns=[\"index\"], inplace=True)"
   ]
  },
  {
   "cell_type": "code",
   "execution_count": 50,
   "id": "0498d9b7",
   "metadata": {},
   "outputs": [],
   "source": [
    "df_dataset.to_csv(\"dataset/human-ai-gen-news.csv\", sep=\";\")"
   ]
  },
  {
   "cell_type": "code",
   "execution_count": null,
   "id": "c2221e12",
   "metadata": {},
   "outputs": [],
   "source": []
  }
 ],
 "metadata": {
  "kernelspec": {
   "display_name": "Python (venv)",
   "language": "python",
   "name": "venv"
  },
  "language_info": {
   "codemirror_mode": {
    "name": "ipython",
    "version": 3
   },
   "file_extension": ".py",
   "mimetype": "text/x-python",
   "name": "python",
   "nbconvert_exporter": "python",
   "pygments_lexer": "ipython3",
   "version": "3.12.3"
  }
 },
 "nbformat": 4,
 "nbformat_minor": 5
}
