{
 "cells": [
  {
   "cell_type": "code",
   "execution_count": 1,
   "id": "1a6fbbc5",
   "metadata": {},
   "outputs": [
    {
     "name": "stderr",
     "output_type": "stream",
     "text": [
      "2025-01-23 18:09:08.006172: I tensorflow/core/util/port.cc:153] oneDNN custom operations are on. You may see slightly different numerical results due to floating-point round-off errors from different computation orders. To turn them off, set the environment variable `TF_ENABLE_ONEDNN_OPTS=0`.\n",
      "2025-01-23 18:09:08.015323: E external/local_xla/xla/stream_executor/cuda/cuda_fft.cc:477] Unable to register cuFFT factory: Attempting to register factory for plugin cuFFT when one has already been registered\n",
      "WARNING: All log messages before absl::InitializeLog() is called are written to STDERR\n",
      "E0000 00:00:1737652148.026224  284224 cuda_dnn.cc:8310] Unable to register cuDNN factory: Attempting to register factory for plugin cuDNN when one has already been registered\n",
      "E0000 00:00:1737652148.029567  284224 cuda_blas.cc:1418] Unable to register cuBLAS factory: Attempting to register factory for plugin cuBLAS when one has already been registered\n",
      "2025-01-23 18:09:08.040699: I tensorflow/core/platform/cpu_feature_guard.cc:210] This TensorFlow binary is optimized to use available CPU instructions in performance-critical operations.\n",
      "To enable the following instructions: AVX2 AVX_VNNI FMA, in other operations, rebuild TensorFlow with the appropriate compiler flags.\n"
     ]
    }
   ],
   "source": [
    "import tensorflow as tf\n",
    "from tensorflow.keras.models import load_model\n",
    "import math\n",
    "import numpy as np"
   ]
  },
  {
   "cell_type": "code",
   "execution_count": 2,
   "id": "6d64184c",
   "metadata": {},
   "outputs": [],
   "source": [
    "loaded_encoder = np.load('encoder.npz')\n",
    "one_hot_encoder = {key: loaded_encoder[key] for key in loaded_encoder}"
   ]
  },
  {
   "cell_type": "code",
   "execution_count": 3,
   "id": "41dca546",
   "metadata": {},
   "outputs": [],
   "source": [
    "VOCAB_SIZE: int = 91\n",
    "SEQ_SIZE: int = 150"
   ]
  },
  {
   "cell_type": "code",
   "execution_count": 4,
   "id": "7a4a5685",
   "metadata": {},
   "outputs": [],
   "source": [
    "def split_encode(text: str) -> list[list[int]]:\n",
    "    global one_hot_encoder\n",
    "    global SEQ_SIZE\n",
    "    encoded = [one_hot_encoder[x] for x in [*text][:SEQ_SIZE]]\n",
    "    padded = encoded + [one_hot_encoder[\"<pad>\"]] * (SEQ_SIZE - len(encoded))\n",
    "    return padded"
   ]
  },
  {
   "cell_type": "code",
   "execution_count": 5,
   "id": "c29a520a",
   "metadata": {},
   "outputs": [],
   "source": [
    "titles = np.load(\"dataset/text_shrink.npy\")"
   ]
  },
  {
   "cell_type": "code",
   "execution_count": 6,
   "id": "f6c38a37",
   "metadata": {},
   "outputs": [],
   "source": [
    "data = np.array([split_encode(text) for text in titles])"
   ]
  },
  {
   "cell_type": "code",
   "execution_count": 7,
   "id": "02f98a75",
   "metadata": {},
   "outputs": [],
   "source": [
    "BATCH_SIZE = 8"
   ]
  },
  {
   "cell_type": "code",
   "execution_count": 8,
   "id": "536985b7",
   "metadata": {},
   "outputs": [],
   "source": [
    "X = data[:, :-1, :] \n",
    "y = data[:, 1:, :] "
   ]
  },
  {
   "cell_type": "code",
   "execution_count": 9,
   "id": "a5a088e1",
   "metadata": {},
   "outputs": [],
   "source": [
    "del data"
   ]
  },
  {
   "cell_type": "code",
   "execution_count": 10,
   "id": "8ac644d2",
   "metadata": {},
   "outputs": [
    {
     "name": "stderr",
     "output_type": "stream",
     "text": [
      "W0000 00:00:1737652209.966357  284224 gpu_device.cc:2344] Cannot dlopen some GPU libraries. Please make sure the missing libraries mentioned above are installed properly if you would like to use GPU. Follow the guide at https://www.tensorflow.org/install/gpu for how to download and setup the required libraries for your platform.\n",
      "Skipping registering GPU devices...\n"
     ]
    }
   ],
   "source": [
    "dataset = tf.data.Dataset.from_tensor_slices((X, y))\n",
    "dataset = dataset.shuffle(512).batch(BATCH_SIZE).prefetch(tf.data.AUTOTUNE)"
   ]
  },
  {
   "cell_type": "code",
   "execution_count": 11,
   "id": "8269a364",
   "metadata": {},
   "outputs": [],
   "source": [
    "model = tf.keras.Sequential([\n",
    "    tf.keras.Input(shape=(SEQ_SIZE - 1, VOCAB_SIZE)),\n",
    "    tf.keras.layers.LSTM(256, return_sequences=True, dropout=0.2),\n",
    "    tf.keras.layers.Dense(128, activation='relu'),\n",
    "    tf.keras.layers.BatchNormalization(),\n",
    "    tf.keras.layers.Dense(VOCAB_SIZE, activation='softmax')\n",
    "])"
   ]
  },
  {
   "cell_type": "code",
   "execution_count": 12,
   "id": "735d023f",
   "metadata": {},
   "outputs": [],
   "source": [
    "model.compile(optimizer='adam', loss='categorical_crossentropy')"
   ]
  },
  {
   "cell_type": "code",
   "execution_count": 13,
   "id": "960302b3",
   "metadata": {},
   "outputs": [
    {
     "name": "stdout",
     "output_type": "stream",
     "text": [
      "Epoch 1/15\n",
      "\u001b[1m3750/3750\u001b[0m \u001b[32m━━━━━━━━━━━━━━━━━━━━\u001b[0m\u001b[37m\u001b[0m \u001b[1m173s\u001b[0m 46ms/step - loss: 2.1950\n",
      "Epoch 2/15\n",
      "\u001b[1m3750/3750\u001b[0m \u001b[32m━━━━━━━━━━━━━━━━━━━━\u001b[0m\u001b[37m\u001b[0m \u001b[1m163s\u001b[0m 43ms/step - loss: 1.6574\n",
      "Epoch 3/15\n",
      "\u001b[1m3750/3750\u001b[0m \u001b[32m━━━━━━━━━━━━━━━━━━━━\u001b[0m\u001b[37m\u001b[0m \u001b[1m164s\u001b[0m 44ms/step - loss: 1.5416\n",
      "Epoch 4/15\n",
      "\u001b[1m3750/3750\u001b[0m \u001b[32m━━━━━━━━━━━━━━━━━━━━\u001b[0m\u001b[37m\u001b[0m \u001b[1m182s\u001b[0m 48ms/step - loss: 1.4750\n",
      "Epoch 5/15\n",
      "\u001b[1m3750/3750\u001b[0m \u001b[32m━━━━━━━━━━━━━━━━━━━━\u001b[0m\u001b[37m\u001b[0m \u001b[1m171s\u001b[0m 46ms/step - loss: 1.4239\n",
      "Epoch 6/15\n",
      "\u001b[1m3750/3750\u001b[0m \u001b[32m━━━━━━━━━━━━━━━━━━━━\u001b[0m\u001b[37m\u001b[0m \u001b[1m154s\u001b[0m 41ms/step - loss: 1.3928\n",
      "Epoch 7/15\n",
      "\u001b[1m3750/3750\u001b[0m \u001b[32m━━━━━━━━━━━━━━━━━━━━\u001b[0m\u001b[37m\u001b[0m \u001b[1m162s\u001b[0m 43ms/step - loss: 1.3734\n",
      "Epoch 8/15\n",
      "\u001b[1m3750/3750\u001b[0m \u001b[32m━━━━━━━━━━━━━━━━━━━━\u001b[0m\u001b[37m\u001b[0m \u001b[1m182s\u001b[0m 49ms/step - loss: 1.3546\n",
      "Epoch 9/15\n",
      "\u001b[1m3750/3750\u001b[0m \u001b[32m━━━━━━━━━━━━━━━━━━━━\u001b[0m\u001b[37m\u001b[0m \u001b[1m187s\u001b[0m 50ms/step - loss: 1.3373\n",
      "Epoch 10/15\n",
      "\u001b[1m3750/3750\u001b[0m \u001b[32m━━━━━━━━━━━━━━━━━━━━\u001b[0m\u001b[37m\u001b[0m \u001b[1m189s\u001b[0m 51ms/step - loss: 1.3266\n",
      "Epoch 11/15\n",
      "\u001b[1m3750/3750\u001b[0m \u001b[32m━━━━━━━━━━━━━━━━━━━━\u001b[0m\u001b[37m\u001b[0m \u001b[1m176s\u001b[0m 47ms/step - loss: 1.3165\n",
      "Epoch 12/15\n",
      "\u001b[1m3750/3750\u001b[0m \u001b[32m━━━━━━━━━━━━━━━━━━━━\u001b[0m\u001b[37m\u001b[0m \u001b[1m175s\u001b[0m 47ms/step - loss: 1.3090\n",
      "Epoch 13/15\n",
      "\u001b[1m3750/3750\u001b[0m \u001b[32m━━━━━━━━━━━━━━━━━━━━\u001b[0m\u001b[37m\u001b[0m \u001b[1m186s\u001b[0m 50ms/step - loss: 1.3013\n",
      "Epoch 14/15\n",
      "\u001b[1m3750/3750\u001b[0m \u001b[32m━━━━━━━━━━━━━━━━━━━━\u001b[0m\u001b[37m\u001b[0m \u001b[1m188s\u001b[0m 50ms/step - loss: 1.3029\n",
      "Epoch 15/15\n",
      "\u001b[1m3750/3750\u001b[0m \u001b[32m━━━━━━━━━━━━━━━━━━━━\u001b[0m\u001b[37m\u001b[0m \u001b[1m189s\u001b[0m 50ms/step - loss: 1.2906\n"
     ]
    }
   ],
   "source": [
    "history = model.fit(dataset, epochs=15)"
   ]
  },
  {
   "cell_type": "code",
   "execution_count": 14,
   "id": "7264a485",
   "metadata": {},
   "outputs": [],
   "source": [
    "def encode(src: str) -> np.ndarray:\n",
    "    dst = []\n",
    "    for letter in [*src]:\n",
    "        dst.append(one_hot_encoder[letter])\n",
    "    return np.array(dst)"
   ]
  },
  {
   "cell_type": "code",
   "execution_count": 15,
   "id": "ddc8b5f5",
   "metadata": {},
   "outputs": [],
   "source": [
    "def decode(src: np.ndarray) -> str:\n",
    "    dst = \"\"\n",
    "    for coded in src:\n",
    "        for key, val in one_hot_encoder.items():\n",
    "            if (coded == val).all():\n",
    "                dst += key\n",
    "                break\n",
    "    return dst"
   ]
  },
  {
   "cell_type": "code",
   "execution_count": 16,
   "id": "bd7dc97c",
   "metadata": {},
   "outputs": [],
   "source": [
    "input_seq = encode(\"Breaking news: \")"
   ]
  },
  {
   "cell_type": "code",
   "execution_count": 17,
   "id": "bfb1a125",
   "metadata": {},
   "outputs": [],
   "source": [
    "def generate_sequence(model, start_sequence, seq_length, decode):\n",
    "    current_input = np.copy(start_sequence)  \n",
    "    generated_sequence = decode(current_input)  \n",
    "    for _ in range(seq_length):\n",
    "        predictions = model.predict(current_input[np.newaxis, ...], verbose=0) \n",
    "        \n",
    "        next_char_idx = np.argmax(predictions[0, -1, :])\n",
    "        \n",
    "        next_char_onehot = np.zeros_like(current_input[0])\n",
    "        next_char_onehot[next_char_idx] = 1\n",
    "\n",
    "        current_input = np.roll(current_input, shift=-1, axis=0)\n",
    "        current_input[-1] = next_char_onehot  \n",
    "        \n",
    "        generated_sequence += decode(next_char_onehot[np.newaxis, ...])\n",
    "    \n",
    "    return generated_sequence"
   ]
  },
  {
   "cell_type": "code",
   "execution_count": 18,
   "id": "c44711d4",
   "metadata": {},
   "outputs": [
    {
     "name": "stdout",
     "output_type": "stream",
     "text": [
      "Breaking news: The Obama administration s all of the political companies to the presidential campaign to the presidential campaign to the presidential campaign to th\n"
     ]
    }
   ],
   "source": [
    "generated_text = generate_sequence(model, input_seq, SEQ_SIZE, decode)\n",
    "print(generated_text)"
   ]
  },
  {
   "cell_type": "code",
   "execution_count": 19,
   "id": "e07ea818",
   "metadata": {},
   "outputs": [
    {
     "data": {
      "text/plain": [
       "<matplotlib.legend.Legend at 0x761697341a60>"
      ]
     },
     "execution_count": 19,
     "metadata": {},
     "output_type": "execute_result"
    },
    {
     "data": {
      "image/png": "[encoded data removed]",
      "text/plain": [
       "<Figure size 1200x500 with 1 Axes>"
      ]
     },
     "metadata": {},
     "output_type": "display_data"
    }
   ],
   "source": [
    "import matplotlib.pyplot as plt\n",
    "\n",
    "history_dict = history.history\n",
    "\n",
    "loss = history_dict['loss']  \n",
    "epochs = range(1, len(loss) + 1)  \n",
    "\n",
    "val_loss = history_dict.get('val_loss', None)\n",
    "accuracy = history_dict.get('accuracy', None)\n",
    "val_accuracy = history_dict.get('val_accuracy', None)\n",
    "\n",
    "plt.figure(figsize=(12, 5))\n",
    "\n",
    "plt.plot(epochs, loss, 'bo-', label='Training Loss') \n",
    "if val_loss:\n",
    "    plt.plot(epochs, val_loss, 'ro-', label='Validation Loss') \n",
    "plt.title('Training and Validation Loss')\n",
    "plt.xlabel('Epochs')\n",
    "plt.ylabel('Loss')\n",
    "plt.legend()"
   ]
  },
  {
   "cell_type": "code",
   "execution_count": 20,
   "id": "6414eb24",
   "metadata": {},
   "outputs": [],
   "source": [
    "model.save(\"generator_dropout_complex_shrink_seq.keras\")"
   ]
  },
  {
   "cell_type": "code",
   "execution_count": null,
   "id": "8d46fd14",
   "metadata": {},
   "outputs": [],
   "source": []
  }
 ],
 "metadata": {
  "kernelspec": {
   "display_name": "Python (venv)",
   "language": "python",
   "name": "venv"
  },
  "language_info": {
   "codemirror_mode": {
    "name": "ipython",
    "version": 3
   },
   "file_extension": ".py",
   "mimetype": "text/x-python",
   "name": "python",
   "nbconvert_exporter": "python",
   "pygments_lexer": "ipython3",
   "version": "3.12.3"
  }
 },
 "nbformat": 4,
 "nbformat_minor": 5
}
