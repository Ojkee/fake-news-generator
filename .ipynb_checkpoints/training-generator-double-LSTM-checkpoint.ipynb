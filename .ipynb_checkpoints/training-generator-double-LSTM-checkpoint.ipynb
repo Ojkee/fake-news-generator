{
 "cells": [
  {
   "cell_type": "code",
   "execution_count": 1,
   "id": "eb28f1ac",
   "metadata": {},
   "outputs": [
    {
     "name": "stderr",
     "output_type": "stream",
     "text": [
      "2025-01-22 16:20:45.624161: I tensorflow/core/util/port.cc:153] oneDNN custom operations are on. You may see slightly different numerical results due to floating-point round-off errors from different computation orders. To turn them off, set the environment variable `TF_ENABLE_ONEDNN_OPTS=0`.\n",
      "2025-01-22 16:20:45.633715: E external/local_xla/xla/stream_executor/cuda/cuda_fft.cc:477] Unable to register cuFFT factory: Attempting to register factory for plugin cuFFT when one has already been registered\n",
      "WARNING: All log messages before absl::InitializeLog() is called are written to STDERR\n",
      "E0000 00:00:1737559245.644981  258727 cuda_dnn.cc:8310] Unable to register cuDNN factory: Attempting to register factory for plugin cuDNN when one has already been registered\n",
      "E0000 00:00:1737559245.648357  258727 cuda_blas.cc:1418] Unable to register cuBLAS factory: Attempting to register factory for plugin cuBLAS when one has already been registered\n",
      "2025-01-22 16:20:45.659846: I tensorflow/core/platform/cpu_feature_guard.cc:210] This TensorFlow binary is optimized to use available CPU instructions in performance-critical operations.\n",
      "To enable the following instructions: AVX2 AVX_VNNI FMA, in other operations, rebuild TensorFlow with the appropriate compiler flags.\n"
     ]
    }
   ],
   "source": [
    "import tensorflow as tf\n",
    "import pandas as pd\n",
    "import math\n",
    "import numpy as np"
   ]
  },
  {
   "cell_type": "code",
   "execution_count": 2,
   "id": "4fdb34d6",
   "metadata": {},
   "outputs": [],
   "source": [
    "df_train = pd.read_csv(\"dataset/train.csv\", sep = \";\")\n",
    "df_test = pd.read_csv(\"dataset/test.csv\", sep = \";\")\n",
    "df_eval = pd.read_csv(\"dataset/evaluation.csv\", sep = \";\")"
   ]
  },
  {
   "cell_type": "code",
   "execution_count": 3,
   "id": "3af815b4",
   "metadata": {},
   "outputs": [],
   "source": [
    "all_titles = pd.concat([df_train, df_eval, df_test]).dropna()[\"title\"].tolist()"
   ]
  },
  {
   "cell_type": "code",
   "execution_count": 4,
   "id": "025d3391",
   "metadata": {},
   "outputs": [],
   "source": [
    "filter_vocab = set(sorted([\n",
    "    ' ', '!', '\"', '#', '$',\n",
    "    '%','&', \"'\", '(', ')',\n",
    "    '*', '+', ',', '-','.',\n",
    "    '/', '0', '1', '2', '3',\n",
    "    '4', '5', '6', '7', '8',\n",
    "    '9', ':', ';', '=', '?',\n",
    "    '@', 'A', 'B', 'C', 'D',\n",
    "    'E', 'F', 'G', 'H', 'I',\n",
    "    'J', 'K', 'L', 'M', 'N',\n",
    "    'O', 'P', 'Q', 'R', 'S',\n",
    "    'T', 'U', 'V', 'W', 'X',\n",
    "    'Y', 'Z', '[', ']', '_',\n",
    "    'a', 'b', 'c', 'd', 'e',\n",
    "    'f', 'g', 'h', 'i', 'j',\n",
    "    'k', 'l', 'm', 'n', 'o',\n",
    "    'p', 'q', 'r', 's', 't',\n",
    "    'u', 'v', 'w', 'x', 'y',\n",
    "    'z', '{', '}', '“', '”',\n",
    "    \"<pad>\"\n",
    "]))"
   ]
  },
  {
   "cell_type": "code",
   "execution_count": 5,
   "id": "24785f1a",
   "metadata": {},
   "outputs": [],
   "source": [
    "VOCAB_SIZE: int = len(filter_vocab)\n",
    "SEQ_SIZE: int = 125"
   ]
  },
  {
   "cell_type": "code",
   "execution_count": 6,
   "id": "f08e1a06",
   "metadata": {},
   "outputs": [],
   "source": [
    "def filter_chars(text: str) -> str:\n",
    "    global filter_vocab\n",
    "    return \"\".join([c if c in filter_vocab else \"\" for c in text])"
   ]
  },
  {
   "cell_type": "code",
   "execution_count": 7,
   "id": "1e841e11",
   "metadata": {},
   "outputs": [],
   "source": [
    "filtered_titles = [filter_chars(title) for title in all_titles]"
   ]
  },
  {
   "cell_type": "code",
   "execution_count": 8,
   "id": "4a1aad85",
   "metadata": {},
   "outputs": [],
   "source": [
    "loaded = np.load('encoder.npz')\n",
    "one_hot_encoder = {key: loaded[key] for key in loaded}"
   ]
  },
  {
   "cell_type": "code",
   "execution_count": 9,
   "id": "f6cfbf60",
   "metadata": {},
   "outputs": [],
   "source": [
    "def split_encode(text: str) -> list[list[int]]:\n",
    "    global one_hot_encoder\n",
    "    global SEQ_SIZE\n",
    "    encoded = [one_hot_encoder[x] for x in [*text][:SEQ_SIZE]]\n",
    "    padded = encoded + [one_hot_encoder[\"<pad>\"]] * (SEQ_SIZE - len(encoded))\n",
    "    return padded"
   ]
  },
  {
   "cell_type": "code",
   "execution_count": 10,
   "id": "827939cd",
   "metadata": {},
   "outputs": [],
   "source": [
    "data = np.array([split_encode(text) for text in filtered_titles])"
   ]
  },
  {
   "cell_type": "code",
   "execution_count": 11,
   "id": "90dc3d1f",
   "metadata": {},
   "outputs": [],
   "source": [
    "BATCH_SIZE = 8"
   ]
  },
  {
   "cell_type": "code",
   "execution_count": 12,
   "id": "aef2a9ba",
   "metadata": {},
   "outputs": [],
   "source": [
    "X = data[:, :-1, :] \n",
    "y = data[:, 1:, :]  "
   ]
  },
  {
   "cell_type": "code",
   "execution_count": null,
   "id": "14e44dc5",
   "metadata": {},
   "outputs": [
    {
     "name": "stderr",
     "output_type": "stream",
     "text": [
      "W0000 00:00:1737559251.028120  258727 gpu_device.cc:2344] Cannot dlopen some GPU libraries. Please make sure the missing libraries mentioned above are installed properly if you would like to use GPU. Follow the guide at https://www.tensorflow.org/install/gpu for how to download and setup the required libraries for your platform.\n",
      "Skipping registering GPU devices...\n"
     ]
    }
   ],
   "source": [
    "dataset = tf.data.Dataset.from_tensor_slices((X, y))\n",
    "dataset = dataset.shuffle(512).batch(BATCH_SIZE).prefetch(tf.data.AUTOTUNE)"
   ]
  },
  {
   "cell_type": "code",
   "execution_count": null,
   "id": "63e5767f",
   "metadata": {},
   "outputs": [],
   "source": [
    "model = tf.keras.Sequential([\n",
    "    tf.keras.Input(shape=(SEQ_SIZE - 1, VOCAB_SIZE)),\n",
    "    tf.keras.layers.LSTM(256, return_sequences=True, dropout=0.3),\n",
    "    tf.keras.layers.LSTM(128, return_sequences=True, dropout=0.2),\n",
    "    tf.keras.layers.Dense(VOCAB_SIZE, activation='softmax')\n",
    "])"
   ]
  },
  {
   "cell_type": "code",
   "execution_count": null,
   "id": "3f4ebe69",
   "metadata": {},
   "outputs": [],
   "source": [
    "model.compile(optimizer='adam', loss='categorical_crossentropy')"
   ]
  },
  {
   "cell_type": "code",
   "execution_count": null,
   "id": "15a3ee3b",
   "metadata": {},
   "outputs": [],
   "source": [
    "history = model.fit(dataset, epochs=20)"
   ]
  },
  {
   "cell_type": "code",
   "execution_count": null,
   "id": "1439b3e4",
   "metadata": {},
   "outputs": [],
   "source": [
    "def encode(src: str) -> np.ndarray:\n",
    "    dst = []\n",
    "    for letter in [*src]:\n",
    "        dst.append(one_hot_encoder[letter])\n",
    "    return np.array(dst)"
   ]
  },
  {
   "cell_type": "code",
   "execution_count": null,
   "id": "ecedb142",
   "metadata": {},
   "outputs": [],
   "source": [
    "def decode(src: np.ndarray) -> str:\n",
    "    dst = \"\"\n",
    "    for coded in src:\n",
    "        for key, val in one_hot_encoder.items():\n",
    "            if (coded == val).all():\n",
    "                dst += key\n",
    "                break\n",
    "    return dst"
   ]
  },
  {
   "cell_type": "code",
   "execution_count": null,
   "id": "df5b5ff7",
   "metadata": {},
   "outputs": [],
   "source": [
    "input_seq = encode(\"Breaking news: \")"
   ]
  },
  {
   "cell_type": "code",
   "execution_count": null,
   "id": "8c996333",
   "metadata": {},
   "outputs": [],
   "source": [
    "def generate_sequence(model, start_sequence, seq_length, decode):\n",
    "    current_input = np.copy(start_sequence)  \n",
    "    generated_sequence = decode(current_input)  \n",
    "    for _ in range(seq_length):\n",
    "        predictions = model.predict(current_input[np.newaxis, ...], verbose=0) \n",
    "        \n",
    "        next_char_idx = np.argmax(predictions[0, -1, :])\n",
    "        \n",
    "        next_char_onehot = np.zeros_like(current_input[0])\n",
    "        next_char_onehot[next_char_idx] = 1\n",
    "\n",
    "        current_input = np.roll(current_input, shift=-1, axis=0)\n",
    "        current_input[-1] = next_char_onehot  \n",
    "        \n",
    "        generated_sequence += decode(next_char_onehot[np.newaxis, ...])\n",
    "    \n",
    "    return generated_sequence"
   ]
  },
  {
   "cell_type": "code",
   "execution_count": null,
   "id": "720222e0",
   "metadata": {},
   "outputs": [],
   "source": [
    "generated_text = generate_sequence(model, input_seq, SEQ_SIZE, decode)\n",
    "print(generated_text)"
   ]
  },
  {
   "cell_type": "code",
   "execution_count": null,
   "id": "4d165cf5",
   "metadata": {},
   "outputs": [],
   "source": [
    "import matplotlib.pyplot as plt\n",
    "\n",
    "history_dict = history.history\n",
    "\n",
    "loss = history_dict['loss']  \n",
    "epochs = range(1, len(loss) + 1)  \n",
    "\n",
    "val_loss = history_dict.get('val_loss', None)\n",
    "accuracy = history_dict.get('accuracy', None)\n",
    "val_accuracy = history_dict.get('val_accuracy', None)\n",
    "\n",
    "plt.figure(figsize=(12, 5))\n",
    "\n",
    "plt.plot(epochs, loss, 'bo-', label='Training Loss') \n",
    "if val_loss:\n",
    "    plt.plot(epochs, val_loss, 'ro-', label='Validation Loss') \n",
    "plt.title('Training and Validation Loss')\n",
    "plt.xlabel('Epochs')\n",
    "plt.ylabel('Loss')\n",
    "plt.legend()"
   ]
  },
  {
   "cell_type": "code",
   "execution_count": null,
   "id": "4d4fc042",
   "metadata": {},
   "outputs": [],
   "source": [
    "model.save(\"generator_double_LSTM.keras\")"
   ]
  },
  {
   "cell_type": "code",
   "execution_count": null,
   "id": "d9da2aa2",
   "metadata": {},
   "outputs": [],
   "source": []
  },
  {
   "cell_type": "code",
   "execution_count": null,
   "id": "25e8e5cd",
   "metadata": {},
   "outputs": [],
   "source": []
  }
 ],
 "metadata": {
  "kernelspec": {
   "display_name": "Python (venv)",
   "language": "python",
   "name": "venv"
  },
  "language_info": {
   "codemirror_mode": {
    "name": "ipython",
    "version": 3
   },
   "file_extension": ".py",
   "mimetype": "text/x-python",
   "name": "python",
   "nbconvert_exporter": "python",
   "pygments_lexer": "ipython3",
   "version": "3.12.3"
  }
 },
 "nbformat": 4,
 "nbformat_minor": 5
}
