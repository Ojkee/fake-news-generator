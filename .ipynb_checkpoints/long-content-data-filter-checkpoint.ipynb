{
 "cells": [
  {
   "cell_type": "code",
   "execution_count": 1,
   "id": "dafee4c8",
   "metadata": {},
   "outputs": [],
   "source": [
    "import pandas as pd\n",
    "import numpy as np"
   ]
  },
  {
   "cell_type": "code",
   "execution_count": 2,
   "id": "cb143cf9",
   "metadata": {},
   "outputs": [],
   "source": [
    "df_train = pd.read_csv(\"dataset/train.csv\", sep = \";\")\n",
    "df_test = pd.read_csv(\"dataset/test.csv\", sep = \";\")\n",
    "df_eval = pd.read_csv(\"dataset/evaluation.csv\", sep = \";\")\n",
    "titles_first = np.array(pd.concat([df_train, df_eval, df_test]).dropna()[\"title\"].tolist())"
   ]
  },
  {
   "cell_type": "code",
   "execution_count": 3,
   "id": "4866a36d",
   "metadata": {},
   "outputs": [],
   "source": [
    "df_true = pd.read_csv(\"dataset/True.csv\")\n",
    "df_fake = pd.read_csv(\"dataset/Fake.csv\")\n",
    "titles_second = np.array(pd.concat([df_true, df_fake]).dropna()[\"title\"].tolist())"
   ]
  },
  {
   "cell_type": "code",
   "execution_count": 4,
   "id": "f4645af2",
   "metadata": {},
   "outputs": [],
   "source": [
    "titles = np.concatenate((titles_first, titles_second), axis=0)"
   ]
  },
  {
   "cell_type": "code",
   "execution_count": 5,
   "id": "16bdda44",
   "metadata": {},
   "outputs": [
    {
     "data": {
      "text/plain": [
       "(85485,)"
      ]
     },
     "execution_count": 5,
     "metadata": {},
     "output_type": "execute_result"
    }
   ],
   "source": [
    "titles.shape"
   ]
  },
  {
   "cell_type": "code",
   "execution_count": 6,
   "id": "c6450428",
   "metadata": {},
   "outputs": [],
   "source": [
    "filter_vocab = set(sorted([\n",
    "    ' ', '!', '\"', '#', '$',\n",
    "    '%','&', \"'\", '(', ')',\n",
    "    '*', '+', ',', '-','.',\n",
    "    '/', '0', '1', '2', '3',\n",
    "    '4', '5', '6', '7', '8',\n",
    "    '9', ':', ';', '=', '?',\n",
    "    '@', 'A', 'B', 'C', 'D',\n",
    "    'E', 'F', 'G', 'H', 'I',\n",
    "    'J', 'K', 'L', 'M', 'N',\n",
    "    'O', 'P', 'Q', 'R', 'S',\n",
    "    'T', 'U', 'V', 'W', 'X',\n",
    "    'Y', 'Z', '[', ']', '_',\n",
    "    'a', 'b', 'c', 'd', 'e',\n",
    "    'f', 'g', 'h', 'i', 'j',\n",
    "    'k', 'l', 'm', 'n', 'o',\n",
    "    'p', 'q', 'r', 's', 't',\n",
    "    'u', 'v', 'w', 'x', 'y',\n",
    "    'z', '{', '}', '“', '”',\n",
    "    \"<pad>\"\n",
    "]))"
   ]
  },
  {
   "cell_type": "code",
   "execution_count": 7,
   "id": "e98cc0d2",
   "metadata": {},
   "outputs": [],
   "source": [
    "def filter_chars(text: str) -> str:\n",
    "    global filter_vocab\n",
    "    return \"\".join([c if c in filter_vocab else \"\" for c in text])"
   ]
  },
  {
   "cell_type": "code",
   "execution_count": 8,
   "id": "38883590",
   "metadata": {},
   "outputs": [
    {
     "data": {
      "text/plain": [
       "(85485,)"
      ]
     },
     "execution_count": 8,
     "metadata": {},
     "output_type": "execute_result"
    }
   ],
   "source": [
    "titles = np.array([filter_chars(title) for title in titles])\n",
    "titles.shape"
   ]
  },
  {
   "cell_type": "markdown",
   "id": "a954853e",
   "metadata": {},
   "source": [
    "# Titles filtering"
   ]
  },
  {
   "cell_type": "code",
   "execution_count": 9,
   "id": "7406545e",
   "metadata": {},
   "outputs": [
    {
     "data": {
      "text/plain": [
       "77.67744048663508"
      ]
     },
     "execution_count": 9,
     "metadata": {},
     "output_type": "execute_result"
    }
   ],
   "source": [
    "import statistics\n",
    "statistics.mean(map(len, titles))"
   ]
  },
  {
   "cell_type": "code",
   "execution_count": 10,
   "id": "4b0c0a93",
   "metadata": {},
   "outputs": [],
   "source": [
    "TITLE_LEN: int = 100"
   ]
  },
  {
   "cell_type": "code",
   "execution_count": 11,
   "id": "7bb7b063",
   "metadata": {},
   "outputs": [],
   "source": [
    "def is_long_text(text: str) -> bool:\n",
    "    return len(text) >= TITLE_LEN\n",
    "is_long = np.vectorize(is_long_text)"
   ]
  },
  {
   "cell_type": "code",
   "execution_count": 12,
   "id": "f8897251",
   "metadata": {},
   "outputs": [
    {
     "data": {
      "text/plain": [
       "(11402,)"
      ]
     },
     "execution_count": 12,
     "metadata": {},
     "output_type": "execute_result"
    }
   ],
   "source": [
    "long_titles = titles[is_long(titles)]\n",
    "long_titles.shape"
   ]
  },
  {
   "cell_type": "code",
   "execution_count": 13,
   "id": "3ddc16bd",
   "metadata": {},
   "outputs": [],
   "source": [
    "%reset -f"
   ]
  },
  {
   "cell_type": "markdown",
   "id": "f2c1dff1",
   "metadata": {},
   "source": [
    "# Text filtering"
   ]
  },
  {
   "cell_type": "code",
   "execution_count": 14,
   "id": "90fb7b5f",
   "metadata": {},
   "outputs": [],
   "source": [
    "import pandas as pd\n",
    "import numpy as np"
   ]
  },
  {
   "cell_type": "code",
   "execution_count": 15,
   "id": "95f0d157",
   "metadata": {},
   "outputs": [],
   "source": [
    "df_train = pd.read_csv(\"dataset/train.csv\", sep = \";\")\n",
    "df_test = pd.read_csv(\"dataset/test.csv\", sep = \";\")\n",
    "df_eval = pd.read_csv(\"dataset/evaluation.csv\", sep = \";\")\n",
    "text_first = np.array(pd.concat([df_train, df_eval, df_test]).dropna()[\"text\"].tolist())"
   ]
  },
  {
   "cell_type": "code",
   "execution_count": 16,
   "id": "5df1e492",
   "metadata": {},
   "outputs": [],
   "source": [
    "def filter_chars(text: str) -> str:\n",
    "    global filter_vocab\n",
    "    return \"\".join([c if c in filter_vocab else \"\" for c in text])"
   ]
  },
  {
   "cell_type": "code",
   "execution_count": 17,
   "id": "2fe7556e",
   "metadata": {},
   "outputs": [
    {
     "data": {
      "text/plain": [
       "2482.4657402616604"
      ]
     },
     "execution_count": 17,
     "metadata": {},
     "output_type": "execute_result"
    }
   ],
   "source": [
    "import statistics\n",
    "statistics.mean(map(len, text_first))"
   ]
  },
  {
   "cell_type": "code",
   "execution_count": 18,
   "id": "02ce8fa3",
   "metadata": {},
   "outputs": [],
   "source": [
    "MAX_TEXT_LEN: int = 150"
   ]
  },
  {
   "cell_type": "code",
   "execution_count": 19,
   "id": "015cd81a",
   "metadata": {},
   "outputs": [],
   "source": [
    "def shrink_text(text: str) -> str:\n",
    "    wrds = text.split(\" \")\n",
    "    retVal = \"\"\n",
    "    for wrd in wrds:\n",
    "        if len(retVal + \" \" + wrd) > MAX_TEXT_LEN - 1:\n",
    "            return retVal.strip() + \".\" \n",
    "        else:\n",
    "            retVal += \" \" + wrd\n",
    "shrink = np.vectorize(shrink_text)"
   ]
  },
  {
   "cell_type": "code",
   "execution_count": 20,
   "id": "9c324ce0",
   "metadata": {},
   "outputs": [],
   "source": [
    "filter_vocab = set(sorted([\n",
    "    ' ', '!', '\"', '#', '$',\n",
    "    '%','&', \"'\", '(', ')',\n",
    "    '*', '+', ',', '-','.',\n",
    "    '/', '0', '1', '2', '3',\n",
    "    '4', '5', '6', '7', '8',\n",
    "    '9', ':', ';', '=', '?',\n",
    "    '@', 'A', 'B', 'C', 'D',\n",
    "    'E', 'F', 'G', 'H', 'I',\n",
    "    'J', 'K', 'L', 'M', 'N',\n",
    "    'O', 'P', 'Q', 'R', 'S',\n",
    "    'T', 'U', 'V', 'W', 'X',\n",
    "    'Y', 'Z', '[', ']', '_',\n",
    "    'a', 'b', 'c', 'd', 'e',\n",
    "    'f', 'g', 'h', 'i', 'j',\n",
    "    'k', 'l', 'm', 'n', 'o',\n",
    "    'p', 'q', 'r', 's', 't',\n",
    "    'u', 'v', 'w', 'x', 'y',\n",
    "    'z', '{', '}', '“', '”',\n",
    "    \"<pad>\"\n",
    "]))"
   ]
  },
  {
   "cell_type": "code",
   "execution_count": 21,
   "id": "9bd30c14",
   "metadata": {},
   "outputs": [],
   "source": [
    "text_first_shrink = shrink(text_first)"
   ]
  },
  {
   "cell_type": "code",
   "execution_count": 22,
   "id": "7396c385",
   "metadata": {},
   "outputs": [
    {
     "data": {
      "text/plain": [
       "(40587,)"
      ]
     },
     "execution_count": 22,
     "metadata": {},
     "output_type": "execute_result"
    }
   ],
   "source": [
    "texts_filtered = np.array([filter_chars(text) for text in text_first_shrink])\n",
    "texts_filtered.shape"
   ]
  },
  {
   "cell_type": "code",
   "execution_count": 23,
   "id": "64a993fa",
   "metadata": {},
   "outputs": [],
   "source": [
    "np.save(\"dataset/text_shrink.npy\", texts_filtered[:30000])"
   ]
  },
  {
   "cell_type": "markdown",
   "id": "1e9800e5",
   "metadata": {},
   "source": [
    "# Text filtering other dataset"
   ]
  },
  {
   "cell_type": "code",
   "execution_count": 2,
   "id": "3b923566",
   "metadata": {},
   "outputs": [],
   "source": [
    "import pandas as pd\n",
    "import numpy as np"
   ]
  },
  {
   "cell_type": "code",
   "execution_count": 4,
   "id": "3bcb9f46",
   "metadata": {},
   "outputs": [],
   "source": [
    "df_true = pd.read_csv(\"dataset/True.csv\")\n",
    "df_fake = pd.read_csv(\"dataset/Fake.csv\")\n",
    "text_first = np.array(pd.concat([df_true, df_fake]).dropna()[\"text\"].tolist())"
   ]
  },
  {
   "cell_type": "code",
   "execution_count": 5,
   "id": "588bdbab",
   "metadata": {},
   "outputs": [],
   "source": [
    "def filter_chars(text: str) -> str:\n",
    "    global filter_vocab\n",
    "    return \"\".join([c if c in filter_vocab else \"\" for c in text])"
   ]
  },
  {
   "cell_type": "code",
   "execution_count": 6,
   "id": "a0b00764",
   "metadata": {},
   "outputs": [
    {
     "data": {
      "text/plain": [
       "2469.1096930820972"
      ]
     },
     "execution_count": 6,
     "metadata": {},
     "output_type": "execute_result"
    }
   ],
   "source": [
    "import statistics\n",
    "statistics.mean(map(len, text_first))"
   ]
  },
  {
   "cell_type": "code",
   "execution_count": 7,
   "id": "da38827c",
   "metadata": {},
   "outputs": [],
   "source": [
    "MAX_TEXT_LEN: int = 150"
   ]
  },
  {
   "cell_type": "code",
   "execution_count": 8,
   "id": "428801c0",
   "metadata": {},
   "outputs": [],
   "source": [
    "def shrink_text(text: str) -> str:\n",
    "    wrds = text.split(\" \")\n",
    "    retVal = \"\"\n",
    "    for wrd in wrds:\n",
    "        if len(retVal + \" \" + wrd) > MAX_TEXT_LEN - 1:\n",
    "            return retVal.strip() + \".\" \n",
    "        else:\n",
    "            retVal += \" \" + wrd\n",
    "shrink = np.vectorize(shrink_text)"
   ]
  },
  {
   "cell_type": "code",
   "execution_count": 9,
   "id": "2895e91a",
   "metadata": {},
   "outputs": [],
   "source": [
    "filter_vocab = set(sorted([\n",
    "    ' ', '!', '\"', '#', '$',\n",
    "    '%','&', \"'\", '(', ')',\n",
    "    '*', '+', ',', '-','.',\n",
    "    '/', '0', '1', '2', '3',\n",
    "    '4', '5', '6', '7', '8',\n",
    "    '9', ':', ';', '=', '?',\n",
    "    '@', 'A', 'B', 'C', 'D',\n",
    "    'E', 'F', 'G', 'H', 'I',\n",
    "    'J', 'K', 'L', 'M', 'N',\n",
    "    'O', 'P', 'Q', 'R', 'S',\n",
    "    'T', 'U', 'V', 'W', 'X',\n",
    "    'Y', 'Z', '[', ']', '_',\n",
    "    'a', 'b', 'c', 'd', 'e',\n",
    "    'f', 'g', 'h', 'i', 'j',\n",
    "    'k', 'l', 'm', 'n', 'o',\n",
    "    'p', 'q', 'r', 's', 't',\n",
    "    'u', 'v', 'w', 'x', 'y',\n",
    "    'z', '{', '}', '“', '”',\n",
    "    \"<pad>\"\n",
    "]))"
   ]
  },
  {
   "cell_type": "code",
   "execution_count": 10,
   "id": "b943b9da",
   "metadata": {},
   "outputs": [],
   "source": [
    "text_first_shrink = shrink(text_first)"
   ]
  },
  {
   "cell_type": "code",
   "execution_count": 11,
   "id": "011318b1",
   "metadata": {},
   "outputs": [
    {
     "data": {
      "text/plain": [
       "(44898,)"
      ]
     },
     "execution_count": 11,
     "metadata": {},
     "output_type": "execute_result"
    }
   ],
   "source": [
    "texts_filtered = np.array([filter_chars(text) for text in text_first_shrink])\n",
    "texts_filtered.shape"
   ]
  },
  {
   "cell_type": "code",
   "execution_count": 12,
   "id": "c7d0f208",
   "metadata": {},
   "outputs": [],
   "source": [
    "np.save(\"dataset/text_shrink_other.npy\", texts_filtered[:30000])"
   ]
  },
  {
   "cell_type": "code",
   "execution_count": null,
   "id": "fa6deaae",
   "metadata": {},
   "outputs": [],
   "source": []
  }
 ],
 "metadata": {
  "kernelspec": {
   "display_name": "Python (venv)",
   "language": "python",
   "name": "venv"
  },
  "language_info": {
   "codemirror_mode": {
    "name": "ipython",
    "version": 3
   },
   "file_extension": ".py",
   "mimetype": "text/x-python",
   "name": "python",
   "nbconvert_exporter": "python",
   "pygments_lexer": "ipython3",
   "version": "3.12.3"
  }
 },
 "nbformat": 4,
 "nbformat_minor": 5
}
