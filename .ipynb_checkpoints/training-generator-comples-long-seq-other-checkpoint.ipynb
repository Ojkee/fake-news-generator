{
 "cells": [
  {
   "cell_type": "code",
   "execution_count": 1,
   "id": "97da1aad",
   "metadata": {},
   "outputs": [
    {
     "name": "stderr",
     "output_type": "stream",
     "text": [
      "2025-01-24 13:52:49.668337: I tensorflow/core/util/port.cc:153] oneDNN custom operations are on. You may see slightly different numerical results due to floating-point round-off errors from different computation orders. To turn them off, set the environment variable `TF_ENABLE_ONEDNN_OPTS=0`.\n",
      "2025-01-24 13:52:49.841089: E external/local_xla/xla/stream_executor/cuda/cuda_fft.cc:477] Unable to register cuFFT factory: Attempting to register factory for plugin cuFFT when one has already been registered\n",
      "WARNING: All log messages before absl::InitializeLog() is called are written to STDERR\n",
      "E0000 00:00:1737723169.902900   18390 cuda_dnn.cc:8310] Unable to register cuDNN factory: Attempting to register factory for plugin cuDNN when one has already been registered\n",
      "E0000 00:00:1737723169.918742   18390 cuda_blas.cc:1418] Unable to register cuBLAS factory: Attempting to register factory for plugin cuBLAS when one has already been registered\n",
      "2025-01-24 13:52:50.073839: I tensorflow/core/platform/cpu_feature_guard.cc:210] This TensorFlow binary is optimized to use available CPU instructions in performance-critical operations.\n",
      "To enable the following instructions: AVX2 AVX_VNNI FMA, in other operations, rebuild TensorFlow with the appropriate compiler flags.\n"
     ]
    }
   ],
   "source": [
    "import tensorflow as tf\n",
    "from tensorflow.keras.models import load_model\n",
    "import math\n",
    "import numpy as np"
   ]
  },
  {
   "cell_type": "code",
   "execution_count": null,
   "id": "1fd571e9",
   "metadata": {},
   "outputs": [],
   "source": [
    "loaded_encoder = np.load('encoder.npz')\n",
    "one_hot_encoder = {key: loaded_encoder[key] for key in loaded_encoder}"
   ]
  },
  {
   "cell_type": "code",
   "execution_count": null,
   "id": "32c65a3a",
   "metadata": {},
   "outputs": [],
   "source": [
    "VOCAB_SIZE: int = 91\n",
    "SEQ_SIZE: int = 150"
   ]
  },
  {
   "cell_type": "code",
   "execution_count": null,
   "id": "1402f201",
   "metadata": {},
   "outputs": [],
   "source": [
    "def split_encode(text: str) -> list[list[int]]:\n",
    "    global one_hot_encoder\n",
    "    global SEQ_SIZE\n",
    "    encoded = [one_hot_encoder[x] for x in [*text][:SEQ_SIZE]]\n",
    "    padded = encoded + [one_hot_encoder[\"<pad>\"]] * (SEQ_SIZE - len(encoded))\n",
    "    return padded"
   ]
  },
  {
   "cell_type": "code",
   "execution_count": null,
   "id": "83f1f009",
   "metadata": {},
   "outputs": [],
   "source": [
    "titles = np.load(\"dataset/text_shrink_other.npy\")"
   ]
  },
  {
   "cell_type": "code",
   "execution_count": null,
   "id": "89e7ecb4",
   "metadata": {},
   "outputs": [],
   "source": [
    "data = np.array([split_encode(text) for text in titles])"
   ]
  },
  {
   "cell_type": "code",
   "execution_count": null,
   "id": "613be522",
   "metadata": {},
   "outputs": [],
   "source": [
    "BATCH_SIZE = 8"
   ]
  },
  {
   "cell_type": "code",
   "execution_count": null,
   "id": "21ac900c",
   "metadata": {},
   "outputs": [],
   "source": [
    "X = data[:, :-1, :] \n",
    "y = data[:, 1:, :] "
   ]
  },
  {
   "cell_type": "code",
   "execution_count": null,
   "id": "70b33a86",
   "metadata": {},
   "outputs": [],
   "source": [
    "del data"
   ]
  },
  {
   "cell_type": "code",
   "execution_count": null,
   "id": "04bf4dc0",
   "metadata": {},
   "outputs": [],
   "source": [
    "dataset = tf.data.Dataset.from_tensor_slices((X, y))\n",
    "dataset = dataset.shuffle(512).batch(BATCH_SIZE).prefetch(tf.data.AUTOTUNE)"
   ]
  },
  {
   "cell_type": "code",
   "execution_count": null,
   "id": "80efc4f6",
   "metadata": {},
   "outputs": [],
   "source": [
    "model = tf.keras.Sequential([\n",
    "    tf.keras.Input(shape=(SEQ_SIZE - 1, VOCAB_SIZE)),\n",
    "    tf.keras.layers.LSTM(256, return_sequences=True, dropout=0.2),\n",
    "    tf.keras.layers.Dense(128, activation='relu'),\n",
    "    tf.keras.layers.BatchNormalization(),\n",
    "    tf.keras.layers.Dense(VOCAB_SIZE, activation='softmax')\n",
    "])"
   ]
  },
  {
   "cell_type": "code",
   "execution_count": null,
   "id": "05454860",
   "metadata": {},
   "outputs": [],
   "source": [
    "model.compile(optimizer='adam', loss='categorical_crossentropy')"
   ]
  },
  {
   "cell_type": "code",
   "execution_count": null,
   "id": "17527ed5",
   "metadata": {},
   "outputs": [],
   "source": [
    "history = model.fit(dataset, epochs=15)"
   ]
  },
  {
   "cell_type": "code",
   "execution_count": null,
   "id": "64e45848",
   "metadata": {},
   "outputs": [],
   "source": [
    "def encode(src: str) -> np.ndarray:\n",
    "    dst = []\n",
    "    for letter in [*src]:\n",
    "        dst.append(one_hot_encoder[letter])\n",
    "    return np.array(dst)"
   ]
  },
  {
   "cell_type": "code",
   "execution_count": null,
   "id": "3f7b087c",
   "metadata": {},
   "outputs": [],
   "source": [
    "def decode(src: np.ndarray) -> str:\n",
    "    dst = \"\"\n",
    "    for coded in src:\n",
    "        for key, val in one_hot_encoder.items():\n",
    "            if (coded == val).all():\n",
    "                dst += key\n",
    "                break\n",
    "    return dst"
   ]
  },
  {
   "cell_type": "code",
   "execution_count": null,
   "id": "0b01f010",
   "metadata": {},
   "outputs": [],
   "source": [
    "input_seq = encode(\"Breaking news: \")"
   ]
  },
  {
   "cell_type": "code",
   "execution_count": null,
   "id": "d32f38bd",
   "metadata": {},
   "outputs": [],
   "source": [
    "def generate_sequence(model, start_sequence, seq_length, decode):\n",
    "    current_input = np.copy(start_sequence)  \n",
    "    generated_sequence = decode(current_input)  \n",
    "    for _ in range(seq_length):\n",
    "        predictions = model.predict(current_input[np.newaxis, ...], verbose=0) \n",
    "        \n",
    "        next_char_idx = np.argmax(predictions[0, -1, :])\n",
    "        \n",
    "        next_char_onehot = np.zeros_like(current_input[0])\n",
    "        next_char_onehot[next_char_idx] = 1\n",
    "\n",
    "        current_input = np.roll(current_input, shift=-1, axis=0)\n",
    "        current_input[-1] = next_char_onehot  \n",
    "        \n",
    "        generated_sequence += decode(next_char_onehot[np.newaxis, ...])\n",
    "    \n",
    "    return generated_sequence"
   ]
  },
  {
   "cell_type": "code",
   "execution_count": null,
   "id": "41ce2d3b",
   "metadata": {},
   "outputs": [],
   "source": [
    "generated_text = generate_sequence(model, input_seq, SEQ_SIZE, decode)\n",
    "print(generated_text)"
   ]
  },
  {
   "cell_type": "code",
   "execution_count": null,
   "id": "20835b21",
   "metadata": {},
   "outputs": [],
   "source": [
    "import matplotlib.pyplot as plt\n",
    "\n",
    "history_dict = history.history\n",
    "\n",
    "loss = history_dict['loss']  \n",
    "epochs = range(1, len(loss) + 1)  \n",
    "\n",
    "val_loss = history_dict.get('val_loss', None)\n",
    "accuracy = history_dict.get('accuracy', None)\n",
    "val_accuracy = history_dict.get('val_accuracy', None)\n",
    "\n",
    "plt.figure(figsize=(12, 5))\n",
    "\n",
    "plt.plot(epochs, loss, 'bo-', label='Training Loss') \n",
    "if val_loss:\n",
    "    plt.plot(epochs, val_loss, 'ro-', label='Validation Loss') \n",
    "plt.title('Training and Validation Loss')\n",
    "plt.xlabel('Epochs')\n",
    "plt.ylabel('Loss')\n",
    "plt.legend()"
   ]
  },
  {
   "cell_type": "code",
   "execution_count": null,
   "id": "8249e555",
   "metadata": {},
   "outputs": [],
   "source": [
    "model.save(\"generator_dropout_complex_shrink_seq_other.keras\")"
   ]
  },
  {
   "cell_type": "code",
   "execution_count": null,
   "id": "733f5c4a",
   "metadata": {},
   "outputs": [],
   "source": []
  }
 ],
 "metadata": {
  "kernelspec": {
   "display_name": "Python (venv)",
   "language": "python",
   "name": "venv"
  },
  "language_info": {
   "codemirror_mode": {
    "name": "ipython",
    "version": 3
   },
   "file_extension": ".py",
   "mimetype": "text/x-python",
   "name": "python",
   "nbconvert_exporter": "python",
   "pygments_lexer": "ipython3",
   "version": "3.12.3"
  }
 },
 "nbformat": 4,
 "nbformat_minor": 5
}
